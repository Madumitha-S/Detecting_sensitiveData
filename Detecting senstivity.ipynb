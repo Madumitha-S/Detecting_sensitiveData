{
 "cells": [
  {
   "cell_type": "code",
   "execution_count": null,
   "metadata": {
    "collapsed": true
   },
   "outputs": [],
   "source": [
    "##Extracting keywords,sematizing and storing in mysql database "
   ]
  },
  {
   "cell_type": "code",
   "execution_count": null,
   "metadata": {
    "collapsed": true
   },
   "outputs": [],
   "source": [
    "import pandas as pd\n",
    "import string\n",
    "import csv\n",
    "import PyPDF2\n",
    "import textract\n",
    "from nltk.tokenize import word_tokenize\n",
    "from nltk.corpus import stopwords\n",
    "from rake_nltk import Rake\n",
    "import MySQLdb\n",
    "conn = MySQLdb.connect(host= \"localhost\",\n",
    "                  user=\"root\",\n",
    "                  passwd=\"\",\n",
    "                  db=\"mentor_course\")\n",
    "cursor1 = conn.cursor()\n",
    "r=Rake()\n",
    "keywords=[]\n",
    "filename='Anin.pdf'\n",
    "pdf_file = open(filename,'rb')\n",
    "read_pdf = PyPDF2.PdfFileReader(pdf_file)\n",
    "number_of_pages = read_pdf.getNumPages()\n",
    "count=0\n",
    "text=\"\"\n",
    "while(count<number_of_pages):\n",
    "    pageObj=read_pdf.getPage(count)\n",
    "    count+=1\n",
    "    text+=pageObj.extractText()\n",
    "if(text!=\"\"):\n",
    "    text=text\n",
    "else:\n",
    "    text=textract.process('C:\\Users\\User\\Documents\\pys- data.pdf',method='tesseract',language='eng')\n",
    "    \n",
    "tokens = word_tokenize(text)\n",
    "\n",
    "punctuations = ['(',')',';',':','[',']',',']\n",
    "\n",
    "stop_words = stopwords.words('english')\n",
    "\n",
    "keywords = [word for word in tokens if not word in stop_words and  not word in string.punctuation]\n",
    "size = len(keywords)\n",
    "from nltk.stem import PorterStemmer, WordNetLemmatizer\n",
    "stemmer = PorterStemmer()\n",
    "lemmatiser = WordNetLemmatizer()\n",
    "id1=0\n",
    "for i in range(0,size):\n",
    "    string=lemmatiser.lemmatize(keywords[i], pos=\"v\")\n",
    "    id1=id1+1\n",
    "    x = conn.cursor()\n",
    "\n",
    "    try:\n",
    "        x.execute(\"\"\"INSERT INTO python VALUES (%s,%s)\"\"\",(id1,string))\n",
    "        conn.commit()\n",
    "    except:\n",
    "        conn.rollback()\n",
    "\n",
    "conn.close()\n"
   ]
  },
  {
   "cell_type": "code",
   "execution_count": null,
   "metadata": {
    "collapsed": true
   },
   "outputs": [],
   "source": [
    "##Calculating sensitivity level"
   ]
  },
  {
   "cell_type": "code",
   "execution_count": null,
   "metadata": {
    "collapsed": true
   },
   "outputs": [],
   "source": [
    "import pandas as pd\n",
    "import PyPDF2\n",
    "from rake_nltk import Rake\n",
    "import csv\n",
    "import MySQLdb\n",
    "connection = MySQLdb.connect(host= \"localhost\",\n",
    "                  user=\"root\",\n",
    "                  passwd=\"\",\n",
    "                  db=\"mentor_course\")\n",
    "count1=0\n",
    "count2=0\n",
    "count3=0\n",
    "cursor1 = connection.cursor()\n",
    "cursor2=connection.cursor()\n",
    "cursor3=connection.cursor()\n",
    "cursor4=connection.cursor()\n",
    "cursor1.execute (\"select high from sensitive1\")\n",
    "cursor2.execute(\"select moderate from sensitive2\")\n",
    "cursor3.execute (\"select low from sensitive3\")\n",
    "cursor4.execute (\"select data from python\")\n",
    "highest=cursor1.fetchall()\n",
    "moderate=cursor2.fetchall()\n",
    "lowest=cursor3.fetchall()\n",
    "keyword=cursor4.fetchall()\n",
    "for key in keyword:\n",
    "    if key in highest:\n",
    "        count1=count1+1\n",
    "        \n",
    "    if key in moderate:\n",
    "        count2=count2+1\n",
    "    \n",
    "        \n",
    "    if key in lowest:\n",
    "        count3=count3+1\n",
    "        \n",
    "cursor4.close()\n",
    "cursor3.close()\n",
    "cursor2.close()\n",
    "cursor1.close()\n",
    "connection.close()\n",
    "print(count1,count2,count3)\n",
    "temp=0\n",
    "if((count1 > count2+count3) and (count1<100)):\n",
    "    print(\"High\")\n",
    "    temp=temp+1\n",
    "    \n",
    "if((count1>count2+count3) and (count1>100)):\n",
    "    print(\"Very High\")\n",
    "    temp=temp+1\n",
    "    \n",
    "if(count1==0 and count2<count3):\n",
    "    print(\"Moderate\")\n",
    "    temp=temp+1  \n",
    "    \n",
    "if(count1==0 and count2==0 and count3>50):\n",
    "    print(\"Low\")\n",
    "    temp=temp+1\n",
    "\n",
    "if(count1==0 and count2==0 and count3<50):\n",
    "    print(\"Very Low\")\n",
    "    temp=temp+1\n",
    "\n",
    "if(temp == 0):\n",
    "    print(\"Moderate\")\n",
    "\n",
    "    "
   ]
  }
 ],
 "metadata": {
  "kernelspec": {
   "display_name": "Python 2",
   "language": "python",
   "name": "python2"
  },
  "language_info": {
   "codemirror_mode": {
    "name": "ipython",
    "version": 2
   },
   "file_extension": ".py",
   "mimetype": "text/x-python",
   "name": "python",
   "nbconvert_exporter": "python",
   "pygments_lexer": "ipython2",
   "version": "2.7.13"
  }
 },
 "nbformat": 4,
 "nbformat_minor": 0
}
